{
 "cells": [
  {
   "cell_type": "markdown",
   "metadata": {},
   "source": [
    "### continuing where I left in the `sckit_learn.ipynb` notebook. \n",
    "\n",
    "Will be creating a voting system to increase our accuracy in predicting"
   ]
  },
  {
   "cell_type": "code",
   "execution_count": 1,
   "metadata": {
    "collapsed": true
   },
   "outputs": [],
   "source": [
    "import nltk\n",
    "import random\n",
    "from nltk.corpus import movie_reviews\n",
    "import pickle\n",
    "\n",
    "from nltk.classify import ClassifierI\n",
    "from statistics import mode"
   ]
  },
  {
   "cell_type": "code",
   "execution_count": 7,
   "metadata": {
    "collapsed": true
   },
   "outputs": [],
   "source": [
    "## defing the voteclassifier class\n",
    "class VoteClassifier(ClassifierI):\n",
    "    def __init__(self, *classifiers):\n",
    "        self._classifiers = classifiers\n",
    "\n",
    "    def classify(self, features):\n",
    "        votes = []\n",
    "        for c in self._classifiers:\n",
    "            v = c.classify(features)\n",
    "            votes.append(v)\n",
    "        return mode(votes)\n",
    "\n",
    "    def confidence(self, features):\n",
    "        votes = []\n",
    "        for c in self._classifiers:\n",
    "            v = c.classify(features)\n",
    "            votes.append(v)\n",
    "\n",
    "        choice_votes = votes.count(mode(votes))\n",
    "        conf = choice_votes / len(votes)\n",
    "        return conf"
   ]
  },
  {
   "cell_type": "code",
   "execution_count": 3,
   "metadata": {
    "collapsed": true
   },
   "outputs": [],
   "source": [
    "# pickle_obj = open(\"documents.pickle\", \"wb\")\n",
    "# documents = [(list(movie_reviews.words(fileid)), category)\n",
    "#              for category in movie_reviews.categories()\n",
    "#              for fileid in movie_reviews.fileids(category)]\n",
    "# pickle.dump(documents, pickle_obj)\n",
    "# pickle_obj.close()"
   ]
  },
  {
   "cell_type": "code",
   "execution_count": 4,
   "metadata": {
    "collapsed": true
   },
   "outputs": [],
   "source": [
    "pickle_obj = open(\"documents.pickle\", \"rb\")\n",
    "documents = pickle.load(pickle_obj)\n",
    "pickle_obj.close()\n",
    "\n",
    "random.shuffle(documents)\n",
    "\n",
    "all_words = []\n",
    "\n",
    "for w in movie_reviews.words():\n",
    "    all_words.append(w.lower())\n",
    "\n",
    "all_words = nltk.FreqDist(all_words)\n",
    "\n",
    "word_features = list(all_words.keys())[:3000]\n",
    "\n",
    "def find_features(document):\n",
    "    words = set(document)\n",
    "    features = {}\n",
    "    for w in word_features:\n",
    "        features[w] = (w in words)\n",
    "\n",
    "    return features\n",
    "\n",
    "#print((find_features(movie_reviews.words('neg/cv000_29416.txt'))))\n",
    "\n",
    "featuresets = [(find_features(rev), category) for (rev, category) in documents]\n",
    "        \n",
    "training_set = featuresets[:1900]\n",
    "testing_set =  featuresets[1900:]"
   ]
  },
  {
   "cell_type": "markdown",
   "metadata": {},
   "source": [
    "### Loading all the classifiers from their respective pickle files"
   ]
  },
  {
   "cell_type": "code",
   "execution_count": 5,
   "metadata": {
    "collapsed": true
   },
   "outputs": [],
   "source": [
    "original_nb = open(\"naive_bayes.pickle\", \"rb\")\n",
    "naive_bayes_classifier = pickle.load(original_nb)\n",
    "original_nb.close()\n",
    "\n",
    "pickle_file = open(\"MNB_pickle.pickle\", \"rb\")\n",
    "MNB_classifier = pickle.load(pickle_file)\n",
    "pickle_file.close()\n",
    "\n",
    "pickle_file = open(\"BNB_pickle.pickle\", \"rb\")\n",
    "BernoulliNB_classifier = pickle.load(pickle_file)\n",
    "pickle_file.close()\n",
    "\n",
    "pickle_file = open(\"LogisticRegression.pickle\", \"rb\")\n",
    "LogisticRegression_classifier = pickle.load(pickle_file)\n",
    "pickle_file.close()\n",
    "\n",
    "pickle_file = open(\"SGDClassifier.pickle\", \"rb\")\n",
    "SGDClassifier_classifier = pickle.load(pickle_file)\n",
    "pickle_file.close()\n",
    "\n",
    "\n",
    "pickle_file = open(\"LinearSVC.pickle\", \"rb\")\n",
    "LinearSVC_classifier = pickle.load(pickle_file)\n",
    "pickle_file.close()\n",
    "\n",
    "pickle_file = open(\"NuSVC_classifier.pickle\", \"rb\")\n",
    "NuSVC_classifier = pickle.load(pickle_file)\n",
    "pickle_file.close()"
   ]
  },
  {
   "cell_type": "code",
   "execution_count": 6,
   "metadata": {
    "collapsed": false
   },
   "outputs": [
    {
     "name": "stdout",
     "output_type": "stream",
     "text": [
      "naive bayes:  69.0\n",
      "MNB_classifier:  61.0\n",
      "BernoulliNB_classifier:  48.0\n",
      "LogisticRegression_classifier:  56.00000000000001\n",
      "SGDClassifier_classifier:  55.00000000000001\n",
      "LinearSVC_classifier:  63.0\n",
      "NuSVC_classifier:  59.0\n"
     ]
    }
   ],
   "source": [
    "print(\"naive bayes: \", (nltk.classify.accuracy(naive_bayes_classifier, testing_set))*100)\n",
    "print(\"MNB_classifier: \", (nltk.classify.accuracy(MNB_classifier, testing_set))*100)\n",
    "print(\"BernoulliNB_classifier: \", (nltk.classify.accuracy(BernoulliNB_classifier, testing_set))*100)\n",
    "print(\"LogisticRegression_classifier: \", (nltk.classify.accuracy(LogisticRegression_classifier, testing_set))*100)\n",
    "print(\"SGDClassifier_classifier: \", (nltk.classify.accuracy(SGDClassifier_classifier, testing_set))*100)\n",
    "print(\"LinearSVC_classifier: \", (nltk.classify.accuracy(LinearSVC_classifier, testing_set))*100)\n",
    "print(\"NuSVC_classifier: \", (nltk.classify.accuracy(NuSVC_classifier, testing_set))*100)"
   ]
  },
  {
   "cell_type": "markdown",
   "metadata": {},
   "source": [
    "## passing it voting class function"
   ]
  },
  {
   "cell_type": "code",
   "execution_count": 8,
   "metadata": {
    "collapsed": false
   },
   "outputs": [
    {
     "name": "stdout",
     "output_type": "stream",
     "text": [
      "Voted classifier accuracy :  56.99999999999999\n"
     ]
    }
   ],
   "source": [
    "voted_classifier = VoteClassifier(\n",
    "    naive_bayes_classifier,\n",
    "    MNB_classifier,\n",
    "    BernoulliNB_classifier,\n",
    "    LogisticRegression_classifier,\n",
    "    SGDClassifier_classifier,\n",
    "    LinearSVC_classifier,\n",
    "    NuSVC_classifier\n",
    ")\n",
    "print(\"Voted classifier accuracy : \", (nltk.classify.accuracy(voted_classifier, testing_set))*100)"
   ]
  },
  {
   "cell_type": "code",
   "execution_count": 9,
   "metadata": {
    "collapsed": false
   },
   "outputs": [
    {
     "name": "stdout",
     "output_type": "stream",
     "text": [
      "Classification: neg Confidence %: 100.0\n",
      "Classification: neg Confidence %: 71.42857142857143\n",
      "Classification: neg Confidence %: 100.0\n",
      "Classification: neg Confidence %: 100.0\n",
      "Classification: pos Confidence %: 57.14285714285714\n",
      "Classification: neg Confidence %: 71.42857142857143\n"
     ]
    }
   ],
   "source": [
    "print(\"Classification:\", voted_classifier.classify(testing_set[0][0]), \"Confidence %:\",voted_classifier.confidence(testing_set[0][0])*100)\n",
    "print(\"Classification:\", voted_classifier.classify(testing_set[1][0]), \"Confidence %:\",voted_classifier.confidence(testing_set[1][0])*100)\n",
    "print(\"Classification:\", voted_classifier.classify(testing_set[2][0]), \"Confidence %:\",voted_classifier.confidence(testing_set[2][0])*100)\n",
    "print(\"Classification:\", voted_classifier.classify(testing_set[3][0]), \"Confidence %:\",voted_classifier.confidence(testing_set[3][0])*100)\n",
    "print(\"Classification:\", voted_classifier.classify(testing_set[4][0]), \"Confidence %:\",voted_classifier.confidence(testing_set[4][0])*100)\n",
    "print(\"Classification:\", voted_classifier.classify(testing_set[5][0]), \"Confidence %:\",voted_classifier.confidence(testing_set[5][0])*100)"
   ]
  }
 ],
 "metadata": {
  "kernelspec": {
   "display_name": "Python 3",
   "language": "python",
   "name": "python3"
  },
  "language_info": {
   "codemirror_mode": {
    "name": "ipython",
    "version": 3
   },
   "file_extension": ".py",
   "mimetype": "text/x-python",
   "name": "python",
   "nbconvert_exporter": "python",
   "pygments_lexer": "ipython3",
   "version": "3.5.1"
  }
 },
 "nbformat": 4,
 "nbformat_minor": 0
}
