{
 "cells": [
  {
   "cell_type": "code",
   "execution_count": 1,
   "metadata": {
    "collapsed": false
   },
   "outputs": [
    {
     "name": "stdout",
     "output_type": "stream",
     "text": [
      "{'s', 'should', 'you', 'she', 'than', 'about', 'this', 'while', 'with', 'and', 'will', 'was', 'yourselves', 'doing', 'myself', 'on', 'been', 'ours', 'our', 'hers', 'now', 'any', 'out', 'its', 'themselves', 'after', 'yours', 'if', 'i', 'how', 'to', 'such', 'again', 'be', 'of', 'don', 'above', 'but', 'not', 'few', 'from', 'it', 'off', 'have', 'an', 'theirs', 'yourself', 'which', 'over', 'am', 'during', 'once', 'these', 'through', 'being', 'against', 'more', 'into', 'some', 'up', 'when', 'there', 'my', 'each', 'your', 'those', 'for', 'we', 'them', 'as', 'between', 'his', 'did', 'do', 'too', 'having', 'they', 'most', 'all', 'same', 'whom', 'their', 'ourselves', 'a', 'or', 'is', 'were', 'nor', 'no', 'then', 'what', 'herself', 'had', 'just', 'me', 'why', 'her', 'further', 'that', 'by', 'in', 'very', 'below', 'does', 'under', 'here', 'him', 'at', 't', 'down', 'the', 'himself', 'other', 'can', 'because', 'own', 'who', 'itself', 'he', 'are', 'both', 'so', 'before', 'until', 'where', 'only', 'has'}\n"
     ]
    }
   ],
   "source": [
    "from nltk.tokenize import sent_tokenize, word_tokenize\n",
    "from nltk.corpus import stopwords\n",
    "stop_words = set(stopwords.words(\"english\"))\n",
    "print(stop_words)"
   ]
  },
  {
   "cell_type": "code",
   "execution_count": 2,
   "metadata": {
    "collapsed": false
   },
   "outputs": [
    {
     "name": "stdout",
     "output_type": "stream",
     "text": [
      "['This', 'is', 'a', 'sample', 'sentence', ',', 'showing', 'off', 'the', 'stop', 'words', 'filtration', '.']\n"
     ]
    }
   ],
   "source": [
    "example_sent = \"This is a sample sentence, showing off the stop words filtration.\"\n",
    "example_words = word_tokenize(example_sent)\n",
    "print(example_words)"
   ]
  },
  {
   "cell_type": "markdown",
   "metadata": {},
   "source": [
    "## We will now remove the stopwords from `example_words`"
   ]
  },
  {
   "cell_type": "code",
   "execution_count": 3,
   "metadata": {
    "collapsed": false
   },
   "outputs": [
    {
     "name": "stdout",
     "output_type": "stream",
     "text": [
      "['This', 'sample', 'sentence', ',', 'showing', 'stop', 'words', 'filtration', '.']\n"
     ]
    }
   ],
   "source": [
    "tokenized_words = []\n",
    "for w in example_words:\n",
    "    if w not in stop_words:\n",
    "        tokenized_words.append(w)\n",
    "print(tokenized_words)"
   ]
  }
 ],
 "metadata": {
  "kernelspec": {
   "display_name": "Python 3",
   "language": "python",
   "name": "python3"
  },
  "language_info": {
   "codemirror_mode": {
    "name": "ipython",
    "version": 3
   },
   "file_extension": ".py",
   "mimetype": "text/x-python",
   "name": "python",
   "nbconvert_exporter": "python",
   "pygments_lexer": "ipython3",
   "version": "3.5.1"
  }
 },
 "nbformat": 4,
 "nbformat_minor": 0
}
