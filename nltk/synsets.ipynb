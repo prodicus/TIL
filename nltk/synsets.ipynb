{
 "cells": [
  {
   "cell_type": "code",
   "execution_count": 1,
   "metadata": {
    "collapsed": true
   },
   "outputs": [],
   "source": [
    "from nltk.corpus import wordnet"
   ]
  },
  {
   "cell_type": "code",
   "execution_count": 2,
   "metadata": {
    "collapsed": false
   },
   "outputs": [
    {
     "name": "stdout",
     "output_type": "stream",
     "text": [
      "0 : a member of the genus Canis (probably descended from the common wolf) that has been domesticated by man since prehistoric times; occurs in many breeds\n",
      "1 : a dull unattractive unpleasant girl or woman\n",
      "2 : informal term for a man\n",
      "3 : someone who is morally reprehensible\n",
      "4 : a smooth-textured sausage of minced beef or pork usually smoked; often served on a bread roll\n",
      "5 : a hinged catch that fits into a notch of a ratchet to move a wheel forward or prevent it from moving backward\n",
      "6 : metal supports for logs in a fireplace\n",
      "7 : go after with the intent to catch\n"
     ]
    }
   ],
   "source": [
    "synsets = wordnet.synsets('dog')\n",
    "for i in range(len(synsets)):\n",
    "    print(\"{num} : {value}\".format(num=i, value=synsets[i].definition()))"
   ]
  }
 ],
 "metadata": {
  "kernelspec": {
   "display_name": "Python 3",
   "language": "python",
   "name": "python3"
  },
  "language_info": {
   "codemirror_mode": {
    "name": "ipython",
    "version": 3
   },
   "file_extension": ".py",
   "mimetype": "text/x-python",
   "name": "python",
   "nbconvert_exporter": "python",
   "pygments_lexer": "ipython3",
   "version": "3.5.1"
  }
 },
 "nbformat": 4,
 "nbformat_minor": 0
}
