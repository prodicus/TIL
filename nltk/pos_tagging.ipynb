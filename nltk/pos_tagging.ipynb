{
 "cells": [
  {
   "cell_type": "code",
   "execution_count": 1,
   "metadata": {
    "collapsed": false
   },
   "outputs": [],
   "source": [
    "import nltk\n",
    "from nltk.corpus import state_union\n",
    "from nltk.tokenize import PunktSentenceTokenizer, word_tokenize\n",
    "from pprint import pprint"
   ]
  },
  {
   "cell_type": "code",
   "execution_count": 2,
   "metadata": {
    "collapsed": true
   },
   "outputs": [],
   "source": [
    "train_text = state_union.raw('2005-GWBush.txt')\n",
    "sample_text = state_union.raw('2005-GWBush.txt')"
   ]
  },
  {
   "cell_type": "code",
   "execution_count": 3,
   "metadata": {
    "collapsed": true
   },
   "outputs": [],
   "source": [
    "custom_sent_tokenizer = PunktSentenceTokenizer(train_text)"
   ]
  },
  {
   "cell_type": "code",
   "execution_count": 6,
   "metadata": {
    "collapsed": false
   },
   "outputs": [
    {
     "name": "stdout",
     "output_type": "stream",
     "text": [
      "[\"PRESIDENT GEORGE W. BUSH'S ADDRESS BEFORE A JOINT SESSION OF THE CONGRESS ON THE STATE OF THE UNION\\n \\nFebruary 2, 2005\\n\\n\\n9:10 P.M. EST \\n\\nTHE PRESIDENT: Mr. Speaker, Vice President Cheney, members of Congress, fellow citizens: \\n\\nAs a new Congress gathers, all of us in the elected branches of government share a great privilege: We've been placed in office by the votes of the people we serve.\", 'And tonight that is a privilege we share with newly-elected leaders of Afghanistan, the Palestinian Territories, Ukraine, and a free and sovereign Iraq.', '(Applause.)']\n"
     ]
    }
   ],
   "source": [
    "tokenized = custom_sent_tokenizer.tokenize(sample_text)\n",
    "print(tokenized[:3])"
   ]
  },
  {
   "cell_type": "code",
   "execution_count": 12,
   "metadata": {
    "collapsed": false
   },
   "outputs": [
    {
     "name": "stdout",
     "output_type": "stream",
     "text": [
      "[['PRESIDENT',\n",
      "  'GEORGE',\n",
      "  'W.',\n",
      "  'BUSH',\n",
      "  \"'S\",\n",
      "  'ADDRESS',\n",
      "  'BEFORE',\n",
      "  'A',\n",
      "  'JOINT',\n",
      "  'SESSION',\n",
      "  'OF',\n",
      "  'THE',\n",
      "  'CONGRESS',\n",
      "  'ON',\n",
      "  'THE',\n",
      "  'STATE',\n",
      "  'OF',\n",
      "  'THE',\n",
      "  'UNION',\n",
      "  'February',\n",
      "  '2',\n",
      "  ',',\n",
      "  '2005',\n",
      "  '9:10',\n",
      "  'P.M.',\n",
      "  'EST',\n",
      "  'THE',\n",
      "  'PRESIDENT',\n",
      "  ':',\n",
      "  'Mr.',\n",
      "  'Speaker',\n",
      "  ',',\n",
      "  'Vice',\n",
      "  'President',\n",
      "  'Cheney',\n",
      "  ',',\n",
      "  'members',\n",
      "  'of',\n",
      "  'Congress',\n",
      "  ',',\n",
      "  'fellow',\n",
      "  'citizens',\n",
      "  ':',\n",
      "  'As',\n",
      "  'a',\n",
      "  'new',\n",
      "  'Congress',\n",
      "  'gathers',\n",
      "  ',',\n",
      "  'all',\n",
      "  'of',\n",
      "  'us',\n",
      "  'in',\n",
      "  'the',\n",
      "  'elected',\n",
      "  'branches',\n",
      "  'of',\n",
      "  'government',\n",
      "  'share',\n",
      "  'a',\n",
      "  'great',\n",
      "  'privilege',\n",
      "  ':',\n",
      "  'We',\n",
      "  \"'ve\",\n",
      "  'been',\n",
      "  'placed',\n",
      "  'in',\n",
      "  'office',\n",
      "  'by',\n",
      "  'the',\n",
      "  'votes',\n",
      "  'of',\n",
      "  'the',\n",
      "  'people',\n",
      "  'we',\n",
      "  'serve',\n",
      "  '.'],\n",
      " ['And',\n",
      "  'tonight',\n",
      "  'that',\n",
      "  'is',\n",
      "  'a',\n",
      "  'privilege',\n",
      "  'we',\n",
      "  'share',\n",
      "  'with',\n",
      "  'newly-elected',\n",
      "  'leaders',\n",
      "  'of',\n",
      "  'Afghanistan',\n",
      "  ',',\n",
      "  'the',\n",
      "  'Palestinian',\n",
      "  'Territories',\n",
      "  ',',\n",
      "  'Ukraine',\n",
      "  ',',\n",
      "  'and',\n",
      "  'a',\n",
      "  'free',\n",
      "  'and',\n",
      "  'sovereign',\n",
      "  'Iraq',\n",
      "  '.'],\n",
      " ['(', 'Applause', '.', ')']]\n"
     ]
    }
   ],
   "source": [
    "words = []\n",
    "for sentence in tokenized[:3]:\n",
    "    tuple_is = word_tokenize(sentence)\n",
    "    words.append(tuple_is)\n",
    "pprint(words)"
   ]
  },
  {
   "cell_type": "markdown",
   "metadata": {},
   "source": [
    "#### POS Tagging"
   ]
  },
  {
   "cell_type": "code",
   "execution_count": null,
   "metadata": {
    "collapsed": true
   },
   "outputs": [],
   "source": [
    "fo"
   ]
  }
 ],
 "metadata": {
  "kernelspec": {
   "display_name": "Python 3",
   "language": "python",
   "name": "python3"
  },
  "language_info": {
   "codemirror_mode": {
    "name": "ipython",
    "version": 3
   },
   "file_extension": ".py",
   "mimetype": "text/x-python",
   "name": "python",
   "nbconvert_exporter": "python",
   "pygments_lexer": "ipython3",
   "version": "3.5.1"
  }
 },
 "nbformat": 4,
 "nbformat_minor": 0
}
